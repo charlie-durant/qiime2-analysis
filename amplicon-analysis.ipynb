{
 "cells": [
  {
   "cell_type": "markdown",
   "metadata": {},
   "source": [
    "Qiime2 setup accoording to instructions for mac: https://docs.qiime2.org/2022.2/install/native/#install-qiime-2-within-a-conda-environment\n",
    "\n",
    "Installed jupyter lab within qiime environment. When you want to use, activate qiime environment and run jupyter lab from there.\n",
    "\n",
    "conda activate qiime2-2022.2\n",
    "\n",
    "jupyter lab\n",
    "\n",
    "This analysis requires that sample_metadata.tsv file is created following instructions: https://docs.qiime2.org/2022.2/tutorials/metadata/\n",
    "\n",
    "Metadata was validated throuugh google sheets with Keemei and then downloaded from google drive as .tsv as described in the link above."
   ]
  },
  {
   "cell_type": "code",
   "execution_count": 2,
   "metadata": {},
   "outputs": [],
   "source": [
    "cd /Users/d1794974/Documents/PhD/Wood_ants/Amplicon_sequencing/qiime2-analysis # change directory"
   ]
  },
  {
   "cell_type": "markdown",
   "metadata": {},
   "source": [
    "Testing qiime is working:"
   ]
  },
  {
   "cell_type": "code",
   "execution_count": 3,
   "metadata": {},
   "outputs": [
    {
     "name": "stdout",
     "output_type": "stream",
     "text": [
      "Usage: \u001b[94mqiime\u001b[0m [OPTIONS] COMMAND [ARGS]...\n",
      "\n",
      "  QIIME 2 command-line interface (q2cli)\n",
      "  --------------------------------------\n",
      "\n",
      "  To get help with QIIME 2, visit https://qiime2.org.\n",
      "\n",
      "  To enable tab completion in Bash, run the following command or add it to\n",
      "  your .bashrc/.bash_profile:\n",
      "\n",
      "      source tab-qiime\n",
      "\n",
      "  To enable tab completion in ZSH, run the following commands or add them to\n",
      "  your .zshrc:\n",
      "\n",
      "      autoload -Uz compinit && compinit\n",
      "      autoload bashcompinit && bashcompinit\n",
      "      source tab-qiime\n",
      "\n",
      "\u001b[1mOptions\u001b[0m:\n",
      "  \u001b[94m--version\u001b[0m   Show the version and exit.\n",
      "  \u001b[94m--help\u001b[0m      Show this message and exit.\n",
      "\n",
      "\u001b[1mCommands\u001b[0m:\n",
      "  \u001b[94minfo\u001b[0m                Display information about current deployment.\n",
      "  \u001b[94mtools\u001b[0m               Tools for working with QIIME 2 files.\n",
      "  \u001b[94mdev\u001b[0m                 Utilities for developers and advanced users.\n",
      "  \u001b[94malignment\u001b[0m           Plugin for generating and manipulating alignments.\n",
      "  \u001b[94mcomposition\u001b[0m         Plugin for compositional data analysis.\n",
      "  \u001b[94mcutadapt\u001b[0m            Plugin for removing adapter sequences, primers, and\n",
      "                      other unwanted sequence from sequence data.\n",
      "\n",
      "  \u001b[94mdada2\u001b[0m               Plugin for sequence quality control with DADA2.\n",
      "  \u001b[94mdeblur\u001b[0m              Plugin for sequence quality control with Deblur.\n",
      "  \u001b[94mdemux\u001b[0m               Plugin for demultiplexing & viewing sequence quality.\n",
      "  \u001b[94mdiversity\u001b[0m           Plugin for exploring community diversity.\n",
      "  \u001b[94mdiversity-lib\u001b[0m       Plugin for computing community diversity.\n",
      "  \u001b[94memperor\u001b[0m             Plugin for ordination plotting with Emperor.\n",
      "  \u001b[94mfeature-classifier\u001b[0m  Plugin for taxonomic classification.\n",
      "  \u001b[94mfeature-table\u001b[0m       Plugin for working with sample by feature tables.\n",
      "  \u001b[94mfragment-insertion\u001b[0m  Plugin for extending phylogenies.\n",
      "  \u001b[94mgneiss\u001b[0m              Plugin for building compositional models.\n",
      "  \u001b[94mlongitudinal\u001b[0m        Plugin for paired sample and time series analyses.\n",
      "  \u001b[94mmetadata\u001b[0m            Plugin for working with Metadata.\n",
      "  \u001b[94mphylogeny\u001b[0m           Plugin for generating and manipulating phylogenies.\n",
      "  \u001b[94mquality-control\u001b[0m     Plugin for quality control of feature and sequence data.\n",
      "  \u001b[94mquality-filter\u001b[0m      Plugin for PHRED-based filtering and trimming.\n",
      "  \u001b[94msample-classifier\u001b[0m   Plugin for machine learning prediction of sample\n",
      "                      metadata.\n",
      "\n",
      "  \u001b[94mtaxa\u001b[0m                Plugin for working with feature taxonomy annotations.\n",
      "  \u001b[94mvsearch\u001b[0m             Plugin for clustering and dereplicating with vsearch.\n"
     ]
    }
   ],
   "source": [
    "qiime --help"
   ]
  },
  {
   "cell_type": "code",
   "execution_count": 4,
   "metadata": {},
   "outputs": [],
   "source": [
    "source tab-qiime # allow qiime tab completion"
   ]
  },
  {
   "cell_type": "markdown",
   "metadata": {},
   "source": [
    "Importing data\n",
    "\n",
    "from: https://docs.qiime2.org/2022.2/tutorials/importing/#sequence-data-with-sequence-quality-information-i-e-fastq\n",
    "\n",
    "Casava 1.8 paired-end demultiplexed fastq\n",
    "Format description\n",
    "In Casava 1.8 demultiplexed (paired-end) format, there are two fastq.gz files for each sample in the study, each containing the forward or reverse reads for that sample. The file name includes the sample identifier. The forward and reverse read file names for a single sample might look like L2S357_15_L001_R1_001.fastq.gz and L2S357_15_L001_R2_001.fastq.gz, respectively. The underscore-separated fields in this file name are:\n",
    "\n",
    "the sample identifier,\n",
    "\n",
    "the barcode sequence or a barcode identifier,\n",
    "\n",
    "the lane number,\n",
    "\n",
    "the direction of the read (i.e. R1 or R2), and\n",
    "\n",
    "the set number."
   ]
  },
  {
   "cell_type": "code",
   "execution_count": 4,
   "metadata": {},
   "outputs": [
    {
     "name": "stdout",
     "output_type": "stream",
     "text": [
      "\u001b[32mImported /Volumes/TOSHIBA_MAC/Data/NuOMICS/20220524_CDurant_16S as CasavaOneEightSingleLanePerSampleDirFmt to demux-paired-end.qza\u001b[0m\n",
      "\u001b[0m"
     ]
    }
   ],
   "source": [
    "qiime tools import \\\n",
    "  --type 'SampleData[PairedEndSequencesWithQuality]' \\\n",
    "  --input-path /Volumes/TOSHIBA_MAC/Data/NuOMICS/20220524_CDurant_16S \\\n",
    "  --input-format CasavaOneEightSingleLanePerSampleDirFmt \\\n",
    "  --output-path demux-paired-end.qza"
   ]
  },
  {
   "cell_type": "code",
   "execution_count": 5,
   "metadata": {},
   "outputs": [
    {
     "name": "stdout",
     "output_type": "stream",
     "text": [
      "\u001b[32mSaved Visualization to: demux-paired-end.qzv\u001b[0m\n",
      "\u001b[0m"
     ]
    }
   ],
   "source": [
    "qiime demux summarize \\\n",
    "  --i-data demux-paired-end.qza \\\n",
    "  --o-visualization demux-paired-end.qzv"
   ]
  },
  {
   "cell_type": "code",
   "execution_count": null,
   "metadata": {},
   "outputs": [],
   "source": [
    "qiime tools view demux-paired-end.qzv"
   ]
  },
  {
   "cell_type": "markdown",
   "metadata": {},
   "source": [
    "Above we look at the sequence quality based on ten-thousand randomly selected reads from the subsampled and filtered data. Then we'll denoise the data. When you view the quality plots, note that in contrast to the corresponding plots in the moving pictures tutorial, there are now two interactive plots to be considered together. The plot on the left presents the quality scores for the forward reads, and the plot on the right presents the quality scores for the reverse reads. We’ll use these plots to determine what trimming parameters we want to use for denoising with DADA2, and then denoise the reads using dada2 denoise-paired."
   ]
  },
  {
   "cell_type": "markdown",
   "metadata": {},
   "source": [
    "Run fastqc and multiqc"
   ]
  },
  {
   "cell_type": "raw",
   "metadata": {},
   "source": [
    "fastqc options: https://home.cc.umanitoba.ca/~psgendb/doc/fastqc.help \n",
    "In future use --quiet to only report error messages and not sdout (makes the notebook very long!)"
   ]
  },
  {
   "cell_type": "code",
   "execution_count": null,
   "metadata": {},
   "outputs": [],
   "source": [
    "fastqc -o /Users/d1794974/Documents/PhD/Wood_ants/Amplicon_sequencing/qiime2-analysis/fastqc --noextract -f fastq --casava --quiet /Volumes/TOSHIBA_MAC/Data/NuOMICS/20220524_CDurant_16S/*.fastq.gz"
   ]
  },
  {
   "cell_type": "code",
   "execution_count": null,
   "metadata": {},
   "outputs": [],
   "source": [
    "multiqc fastqc/ # run multiqc"
   ]
  },
  {
   "cell_type": "markdown",
   "metadata": {},
   "source": [
    "Are there primers and adaptors in the reads?\n",
    "From: https://forum.qiime2.org/t/clarification-on-primers-are-a-portion-of-them-left-in-this-run/11684/2 \n",
    "\n",
    "You know the adapters and primers must be getting amplified to create useful Illumina libraries, but with a little bit of cleverness during sequencing, they might never end up within your 250 bp reads!\n",
    "\n",
    "The MiSeq uses several different primer sets during its sequencing by synthesis process. After clusters have been amplified on the flow cell using the Illumina™ primer, you can perform the sequencing by synthesis reading process using the exact same primer you used for initial PCR. This will begin ‘reading’ the DNA after the adapter region, leaving you with no primers or adapters to remove."
   ]
  },
  {
   "cell_type": "markdown",
   "metadata": {},
   "source": [
    "#notes: - trunc-len and -p-timr-lef are tuning parameters and the length should be based on visual examination of the q-score distribution over the read length; maxee and other parameters can also be modifed\n",
    "\n",
    "\n",
    "https://www.nicholas-ollberding.com/post/denoising-amplicon-sequence-variants-using-dada2-deblur-and-unoise3-with-qiime2/\n",
    "\n",
    "This step takes a really long time. ~10h with 10 cores and 64G RAM. Or a few days on a normal computer. Run over the weekend or on HPC."
   ]
  },
  {
   "cell_type": "code",
   "execution_count": 2,
   "metadata": {},
   "outputs": [
    {
     "name": "stdout",
     "output_type": "stream",
     "text": [
      "\u001b[32mSaved FeatureTable[Frequency] to: table.qza\u001b[0m\n",
      "\u001b[32mSaved FeatureData[Sequence] to: rep-seqs.qza\u001b[0m\n",
      "\u001b[32mSaved SampleData[DADA2Stats] to: denoising-stats.qza\u001b[0m\n",
      "\u001b[0m"
     ]
    }
   ],
   "source": [
    "qiime dada2 denoise-paired \\\n",
    "  --i-demultiplexed-seqs demux-paired-end.qza \\\n",
    "  --p-trim-left-f 0 \\\n",
    "  --p-trim-left-r 0 \\\n",
    "  --p-trunc-len-f 250 \\\n",
    "  --p-trunc-len-r 182 \\\n",
    "  --o-representative-sequences rep-seqs.qza \\\n",
    "  --o-table table.qza \\\n",
    "  --o-denoising-stats denoising-stats.qza"
   ]
  },
  {
   "cell_type": "markdown",
   "metadata": {},
   "source": [
    "Generate summaries of artifacts for visualisation"
   ]
  },
  {
   "cell_type": "code",
   "execution_count": 4,
   "metadata": {},
   "outputs": [
    {
     "name": "stdout",
     "output_type": "stream",
     "text": [
      "\u001b[32mSaved Visualization to: table.qzv\u001b[0m\n",
      "\u001b[0m\u001b[32mSaved Visualization to: rep-seqs.qzv\u001b[0m\n",
      "\u001b[0m\u001b[32mSaved Visualization to: denoising-stats.qzv\u001b[0m\n",
      "\u001b[0m"
     ]
    }
   ],
   "source": [
    "qiime feature-table summarize \\\n",
    "  --i-table table.qza \\\n",
    "  --o-visualization table.qzv \\\n",
    "  --m-sample-metadata-file sample_metadata.tsv\n",
    "\n",
    "qiime feature-table tabulate-seqs \\\n",
    "  --i-data rep-seqs.qza \\\n",
    "  --o-visualization rep-seqs.qzv\n",
    "\n",
    "qiime metadata tabulate \\\n",
    "  --m-input-file denoising-stats.qza \\\n",
    "  --o-visualization denoising-stats.qzv"
   ]
  },
  {
   "cell_type": "code",
   "execution_count": 105,
   "metadata": {},
   "outputs": [
    {
     "name": "stdout",
     "output_type": "stream",
     "text": [
      "Press the 'q' key, Control-C, or Control-D to quit. This view may no longer be accessible or work correctly after quitting."
     ]
    }
   ],
   "source": [
    "qiime tools view table.qzv"
   ]
  },
  {
   "cell_type": "markdown",
   "metadata": {},
   "source": [
    "Create a BIOM table with taxonomy annotations. A FeatureTable[Frequency] artefact will be exported as a BIOM v2.1.0 formatted file."
   ]
  },
  {
   "cell_type": "code",
   "execution_count": 99,
   "metadata": {},
   "outputs": [
    {
     "name": "stdout",
     "output_type": "stream",
     "text": [
      "\u001b[32mExported table.qza as BIOMV210DirFmt to directory figures\u001b[0m\n",
      "\u001b[0m"
     ]
    }
   ],
   "source": [
    "qiime tools export \\\n",
    "  --input-path table.qza \\\n",
    "  --output-path figures"
   ]
  },
  {
   "cell_type": "markdown",
   "metadata": {},
   "source": [
    "Then export BIOM to TSV"
   ]
  },
  {
   "cell_type": "code",
   "execution_count": 100,
   "metadata": {},
   "outputs": [],
   "source": [
    "biom convert \\\n",
    "-i figures/feature-table.biom \\\n",
    "-o figures/feature-table.tsv \\\n",
    "--to-tsv"
   ]
  },
  {
   "cell_type": "markdown",
   "metadata": {},
   "source": [
    "Export Taxonomy as TSV"
   ]
  },
  {
   "cell_type": "code",
   "execution_count": 103,
   "metadata": {},
   "outputs": [
    {
     "name": "stdout",
     "output_type": "stream",
     "text": [
      "\u001b[32mExported training-feature-classifier/taxonomy.qza as TSVTaxonomyDirectoryFormat to directory figures\u001b[0m\n",
      "\u001b[0m"
     ]
    }
   ],
   "source": [
    "qiime tools export \\\n",
    "--input-path training-feature-classifier/taxonomy.qza \\\n",
    "--output-path figures"
   ]
  },
  {
   "cell_type": "markdown",
   "metadata": {},
   "source": [
    "Delete the header lines of the .tsv files"
   ]
  },
  {
   "cell_type": "code",
   "execution_count": 104,
   "metadata": {},
   "outputs": [],
   "source": [
    "sed '1d' figures/taxonomy.tsv > figures/taxonomy_noHeader.tsv\n",
    "sed '1d' figures/feature-table.tsv > figures/feature-table_noHeader.tsv"
   ]
  },
  {
   "cell_type": "markdown",
   "metadata": {},
   "source": [
    "Some packages require your data to be in a consistent order, i.e. the order of your ASVs in the taxonomy table rows to be the same order of ASVs in the columns of your ASV table. It's recommended to clean up your taxonomy file. You can have blank spots where the level of classification was not completely resolved."
   ]
  },
  {
   "cell_type": "code",
   "execution_count": 95,
   "metadata": {},
   "outputs": [
    {
     "name": "stdout",
     "output_type": "stream",
     "text": [
      "Press the 'q' key, Control-C, or Control-D to quit. This view may no longer be accessible or work correctly after quitting."
     ]
    }
   ],
   "source": [
    "qiime tools view rep-seqs.qzv"
   ]
  },
  {
   "cell_type": "code",
   "execution_count": 96,
   "metadata": {},
   "outputs": [
    {
     "name": "stdout",
     "output_type": "stream",
     "text": [
      "Press the 'q' key, Control-C, or Control-D to quit. This view may no longer be accessible or work correctly after quitting."
     ]
    }
   ],
   "source": [
    "qiime tools view denoising-stats.qzv"
   ]
  },
  {
   "cell_type": "markdown",
   "metadata": {},
   "source": [
    "Added after and NOT RUN: (something to consider?)\n",
    "You may want to filter to remove non-bacteria sequences? \n",
    "\n",
    "See: https://www.melbournebioinformatics.org.au/tutorials/tutorials/qiime2/qiime2/\n",
    "\n",
    "According to QIIME developer Nicholas Bokulich, low abundance filtering (i.e. removing ASVs containing very few sequences) is not necessary under the ASV model.\n",
    "\n",
    "E.g. you might want to filter out reads classified as mitochondria and chloroplast. Unassigned ASVs are retained. Generate a viewable summary file of the new table to see the effect of filtering."
   ]
  },
  {
   "cell_type": "markdown",
   "metadata": {},
   "source": [
    "From this point, analysis of paired-end read data progresses in the same way as analysis of single-end read data. You can therefore continue your analyses of these data following the steps that you ran in the moving pictures tutorial.\n",
    "\n",
    "Questions to guide data analysis\n",
    "Use the following questions to guide your further analyses of these data data.\n",
    "\n",
    "What value would you choose to pass for --p-sampling-depth? How many samples will be excluded from your analysis based on this choice? Approximately how many total sequences will you be analyzing in the core-metrics-phylogenetic command?\n",
    "\n",
    "What sample metadata or combinations of sample metadata are most strongly associated with the differences in microbial composition of the samples? Are these associations stronger with unweighted UniFrac or with Bray-Curtis? Based on what you know about these metrics, what does that difference suggest? For exploring associations between continuous metadata and sample composition, the commands qiime metadata distance-matrix in combination with qiime diversity mantel and qiime diversity bioenv will be useful. These were not covered in the Moving Pictures tutorial, but you can learn about them by running them with the --help parameter.\n",
    "\n",
    "What do you conclude about the associations between continuous sample metadata and the richness and evenness of these samples? For exploring associations between continuous metadata and richness or evenness, the command qiime diversity alpha-correlation will be useful. This was not covered in the Moving Pictures tutorial, but you can learn about it by running it with the --help parameter.\n",
    "\n",
    "Which categorical sample metadata columns are most strongly associated with the differences in microbial community richness or evenness? Are these differences statistically significant?\n",
    "\n",
    "In taxonomic composition bar plots, sort the samples by their average soil relative humidity, and visualize them at the phylum level. What are the dominant phyla in these samples? Which phyla increase and which decrease with increasing average soil relative humidity?\n",
    "\n",
    "What phyla differ in abundance across vegetated and unvegetated sites?\n",
    "\n",
    "How do your conclusions differ if you skip the subsampling step above, if at all?"
   ]
  },
  {
   "cell_type": "markdown",
   "metadata": {},
   "source": [
    "Moving pictures tutorial: https://docs.qiime2.org/2022.2/tutorials/moving-pictures/\n",
    " Starting from:\n",
    " \n",
    " Generate a tree for phylogenetic diversity analyses¶\n",
    " \n",
    " \n",
    " QIIME supports several phylogenetic diversity metrics, including Faith’s Phylogenetic Diversity and weighted and unweighted UniFrac. In addition to counts of features per sample (i.e., the data in the FeatureTable[Frequency] QIIME 2 artifact), these metrics require a rooted phylogenetic tree relating the features to one another. This information will be stored in a Phylogeny[Rooted] QIIME 2 artifact. To generate a phylogenetic tree we will use align-to-tree-mafft-fasttree pipeline from the q2-phylogeny plugin.\n",
    "\n",
    "First, the pipeline uses the mafft program to perform a multiple sequence alignment of the sequences in our FeatureData[Sequence] to create a FeatureData[AlignedSequence] QIIME 2 artifact. Next, the pipeline masks (or filters) the alignment to remove positions that are highly variable. These positions are generally considered to add noise to a resulting phylogenetic tree. Following that, the pipeline applies FastTree to generate a phylogenetic tree from the masked alignment. The FastTree program creates an unrooted tree, so in the final step in this section midpoint rooting is applied to place the root of the tree at the midpoint of the longest tip-to-tip distance in the unrooted tree."
   ]
  },
  {
   "cell_type": "code",
   "execution_count": 11,
   "metadata": {},
   "outputs": [
    {
     "name": "stdout",
     "output_type": "stream",
     "text": [
      "\u001b[32mSaved FeatureData[AlignedSequence] to: aligned-rep-seqs.qza\u001b[0m\n",
      "\u001b[32mSaved FeatureData[AlignedSequence] to: masked-aligned-rep-seqs.qza\u001b[0m\n",
      "\u001b[32mSaved Phylogeny[Unrooted] to: unrooted-tree.qza\u001b[0m\n",
      "\u001b[32mSaved Phylogeny[Rooted] to: rooted-tree.qza\u001b[0m\n",
      "\u001b[0m"
     ]
    }
   ],
   "source": [
    "qiime phylogeny align-to-tree-mafft-fasttree \\\n",
    "  --i-sequences rep-seqs.qza \\\n",
    "  --o-alignment aligned-rep-seqs.qza \\\n",
    "  --o-masked-alignment masked-aligned-rep-seqs.qza \\\n",
    "  --o-tree unrooted-tree.qza \\\n",
    "  --o-rooted-tree rooted-tree.qza"
   ]
  },
  {
   "cell_type": "markdown",
   "metadata": {},
   "source": [
    "You can export the tree as described in: https://docs.qiime2.org/2022.2/tutorials/exporting/ "
   ]
  },
  {
   "cell_type": "code",
   "execution_count": 91,
   "metadata": {},
   "outputs": [
    {
     "name": "stdout",
     "output_type": "stream",
     "text": [
      "\u001b[32mExported unrooted-tree.qza as NewickDirectoryFormat to directory figures/exported-tree\u001b[0m\n",
      "\u001b[0m"
     ]
    }
   ],
   "source": [
    "qiime tools export \\\n",
    "  --input-path unrooted-tree.qza \\\n",
    "  --output-path figures/exported-tree"
   ]
  },
  {
   "cell_type": "markdown",
   "metadata": {},
   "source": [
    "Alpha and beta diversity analysis\n",
    "\n",
    "QIIME 2’s diversity analyses are available through the q2-diversity plugin, which supports computing alpha and beta diversity metrics, applying related statistical tests, and generating interactive visualizations. We’ll first apply the core-metrics-phylogenetic method, which rarefies a FeatureTable[Frequency] to a user-specified depth, computes several alpha and beta diversity metrics, and generates principle coordinates analysis (PCoA) plots using Emperor for each of the beta diversity metrics. The metrics computed by default are:\n",
    "\n",
    "Alpha diversity\n",
    "\n",
    "Shannon’s diversity index (a quantitative measure of community richness)\n",
    "\n",
    "Observed Features (a qualitative measure of community richness)\n",
    "\n",
    "Faith’s Phylogenetic Diversity (a qualitiative measure of community richness that incorporates phylogenetic relationships between the features)\n",
    "\n",
    "Evenness (or Pielou’s Evenness; a measure of community evenness)\n",
    "\n",
    "Beta diversity\n",
    "\n",
    "Jaccard distance (a qualitative measure of community dissimilarity)\n",
    "\n",
    "Bray-Curtis distance (a quantitative measure of community dissimilarity)\n",
    "\n",
    "unweighted UniFrac distance (a qualitative measure of community dissimilarity that incorporates phylogenetic relationships between the features)\n",
    "\n",
    "weighted UniFrac distance (a quantitative measure of community dissimilarity that incorporates phylogenetic relationships between the features)\n",
    "\n",
    "An important parameter that needs to be provided to this script is --p-sampling-depth, which is the even sampling (i.e. rarefaction) depth. Because most diversity metrics are sensitive to different sampling depths across different samples, this script will randomly subsample the counts from each sample to the value provided for this parameter. For example, if you provide --p-sampling-depth 500, this step will subsample the counts in each sample without replacement so that each sample in the resulting table has a total count of 500. If the total count for any sample(s) are smaller than this value, those samples will be dropped from the diversity analysis. Choosing this value is tricky. We recommend making your choice by reviewing the information presented in the table.qzv file that was created above. Choose a value that is as high as possible (so you retain more sequences per sample) while excluding as few samples as possible.\n",
    "\n",
    "Question\n",
    "\n",
    "View the table.qzv QIIME 2 artifact, and in particular the Interactive Sample Detail tab in that visualization. What value would you choose to pass for --p-sampling-depth? How many samples will be excluded from your analysis based on this choice? How many total sequences will you be analyzing in the core-metrics-phylogenetic command?\n",
    "\n",
    "\n",
    "If you view the table.qzv and go to the 'interactive sample detail' tab, then you can play around with the sampling depth for different metadata categories. \n",
    "\n",
    "In the moving pictures tutorial they chose sampling depth --p-sampling-depth 1103 which retained 34,193 (22.23%) features in 31 (91.18%) samples at the specifed sampling depth.\n",
    "\n",
    "Here we set the --p-sampling-depth parameter to 1103. This value was chosen based on the number of sequences in the L3S313 sample because it’s close to the number of sequences in the next few samples that have higher sequence counts, and because it is considerably higher (relatively) than the number of sequences in the samples that have fewer sequences. This will allow us to retain most of our samples. The three samples that have fewer sequences will be dropped from the core-metrics-phylogenetic analyses and anything that uses these results. It is worth noting that all three of these samples are “right palm” samples. Losing a disproportionate number of samples from one metadata category is not ideal. However, we are dropping a small enough number of samples here that this felt like the best compromise between total sequences analyzed and number of samples retained.\n",
    "\n",
    "Note\n",
    "\n",
    "The sampling depth of 1103 was chosen based on the DADA2 feature table summary. If you are using a Deblur feature table rather than a DADA2 feature table, you might want to choose a different even sampling depth. Apply the logic from the previous paragraph to help you choose an even sampling depth.\n",
    "\n",
    "Note\n",
    "\n",
    "In many Illumina runs you’ll observe a few samples that have very low sequence counts. You will typically want to exclude those from the analysis by choosing a larger value for the sampling depth at this stage.\n",
    "\n",
    "To rarefy or not to rarefy?\n",
    "\n",
    "I have chosen a sampling depth of 17806 which Retained 2,403,810 (27.08%) features in 135 (96.43%) samples at the specifed sampling depth. \n",
    "\n",
    "Removed the following samples with specified number of features in brackets: \n",
    "NC23 (16764), NC12 (7845), NC11 (5743), A6CWF1 (1521), NC21 (73)\n",
    "\n",
    "However there are problems with rarefaction and you could look into alternatives. Cannot do sampling depth of 0.\n",
    "https://journals.plos.org/ploscompbiol/article?id=10.1371/journal.pcbi.1003531 "
   ]
  },
  {
   "cell_type": "code",
   "execution_count": 21,
   "metadata": {},
   "outputs": [
    {
     "name": "stdout",
     "output_type": "stream",
     "text": [
      "Press the 'q' key, Control-C, or Control-D to quit. This view may no longer be accessible or work correctly after quitting."
     ]
    }
   ],
   "source": [
    "qiime tools view table.qzv"
   ]
  },
  {
   "cell_type": "code",
   "execution_count": 22,
   "metadata": {},
   "outputs": [
    {
     "name": "stdout",
     "output_type": "stream",
     "text": [
      "\u001b[32mSaved FeatureTable[Frequency] to: core-metrics-results/rarefied_table.qza\u001b[0m\n",
      "\u001b[32mSaved SampleData[AlphaDiversity] to: core-metrics-results/faith_pd_vector.qza\u001b[0m\n",
      "\u001b[32mSaved SampleData[AlphaDiversity] to: core-metrics-results/observed_features_vector.qza\u001b[0m\n",
      "\u001b[32mSaved SampleData[AlphaDiversity] to: core-metrics-results/shannon_vector.qza\u001b[0m\n",
      "\u001b[32mSaved SampleData[AlphaDiversity] to: core-metrics-results/evenness_vector.qza\u001b[0m\n",
      "\u001b[32mSaved DistanceMatrix to: core-metrics-results/unweighted_unifrac_distance_matrix.qza\u001b[0m\n",
      "\u001b[32mSaved DistanceMatrix to: core-metrics-results/weighted_unifrac_distance_matrix.qza\u001b[0m\n",
      "\u001b[32mSaved DistanceMatrix to: core-metrics-results/jaccard_distance_matrix.qza\u001b[0m\n",
      "\u001b[32mSaved DistanceMatrix to: core-metrics-results/bray_curtis_distance_matrix.qza\u001b[0m\n",
      "\u001b[32mSaved PCoAResults to: core-metrics-results/unweighted_unifrac_pcoa_results.qza\u001b[0m\n",
      "\u001b[32mSaved PCoAResults to: core-metrics-results/weighted_unifrac_pcoa_results.qza\u001b[0m\n",
      "\u001b[32mSaved PCoAResults to: core-metrics-results/jaccard_pcoa_results.qza\u001b[0m\n",
      "\u001b[32mSaved PCoAResults to: core-metrics-results/bray_curtis_pcoa_results.qza\u001b[0m\n",
      "\u001b[32mSaved Visualization to: core-metrics-results/unweighted_unifrac_emperor.qzv\u001b[0m\n",
      "\u001b[32mSaved Visualization to: core-metrics-results/weighted_unifrac_emperor.qzv\u001b[0m\n",
      "\u001b[32mSaved Visualization to: core-metrics-results/jaccard_emperor.qzv\u001b[0m\n",
      "\u001b[32mSaved Visualization to: core-metrics-results/bray_curtis_emperor.qzv\u001b[0m\n",
      "\u001b[0m"
     ]
    }
   ],
   "source": [
    "qiime diversity core-metrics-phylogenetic \\\n",
    "  --i-phylogeny rooted-tree.qza \\\n",
    "  --i-table table.qza \\\n",
    "  --p-sampling-depth 17806 \\\n",
    "  --m-metadata-file sample_metadata.tsv \\\n",
    "  --output-dir core-metrics-results"
   ]
  },
  {
   "cell_type": "code",
   "execution_count": 97,
   "metadata": {},
   "outputs": [
    {
     "name": "stdout",
     "output_type": "stream",
     "text": [
      "Press the 'q' key, Control-C, or Control-D to quit. This view may no longer be accessible or work correctly after quitting."
     ]
    }
   ],
   "source": [
    "qiime tools view core-metrics-results/unweighted_unifrac_emperor.qzv "
   ]
  },
  {
   "cell_type": "markdown",
   "metadata": {
    "jp-MarkdownHeadingCollapsed": true,
    "tags": []
   },
   "source": [
    "unweighted UniFrac distance - a qualitative measure of community dissimilarity that incorporates phylogenetic relationships between the features"
   ]
  },
  {
   "cell_type": "code",
   "execution_count": 27,
   "metadata": {},
   "outputs": [
    {
     "name": "stdout",
     "output_type": "stream",
     "text": [
      "Press the 'q' key, Control-C, or Control-D to quit. This view may no longer be accessible or work correctly after quitting."
     ]
    }
   ],
   "source": [
    "qiime tools view core-metrics-results/weighted_unifrac_emperor.qzv"
   ]
  },
  {
   "cell_type": "markdown",
   "metadata": {},
   "source": [
    "weighted UniFrac distance (a quantitative measure of community dissimilarity that incorporates phylogenetic relationships between the features)"
   ]
  },
  {
   "cell_type": "code",
   "execution_count": 28,
   "metadata": {},
   "outputs": [
    {
     "name": "stdout",
     "output_type": "stream",
     "text": [
      "Press the 'q' key, Control-C, or Control-D to quit. This view may no longer be accessible or work correctly after quitting."
     ]
    }
   ],
   "source": [
    "qiime tools view core-metrics-results/jaccard_emperor.qzv"
   ]
  },
  {
   "cell_type": "markdown",
   "metadata": {},
   "source": [
    "Jaccard distance- a qualitative measure of community dissimilarity"
   ]
  },
  {
   "cell_type": "code",
   "execution_count": 25,
   "metadata": {},
   "outputs": [
    {
     "name": "stdout",
     "output_type": "stream",
     "text": [
      "Press the 'q' key, Control-C, or Control-D to quit. This view may no longer be accessible or work correctly after quitting."
     ]
    }
   ],
   "source": [
    "qiime tools view core-metrics-results/bray_curtis_emperor.qzv"
   ]
  },
  {
   "cell_type": "markdown",
   "metadata": {},
   "source": [
    "Bray-Curtis distance (a quantitative measure of community dissimilarity)"
   ]
  },
  {
   "cell_type": "markdown",
   "metadata": {},
   "source": [
    "After computing diversity metrics, we can begin to explore the microbial composition of the samples in the context of the sample metadata. This information is present in the sample metadata file that was downloaded earlier.\n",
    "\n",
    "We’ll first test for associations between categorical metadata columns and alpha diversity data. We’ll do that here for the Faith Phylogenetic Diversity (a measure of community richness) and evenness metrics.\n"
   ]
  },
  {
   "cell_type": "code",
   "execution_count": 37,
   "metadata": {},
   "outputs": [
    {
     "name": "stdout",
     "output_type": "stream",
     "text": [
      "\u001b[32mSaved Visualization to: core-metrics-results/faith-pd-group-significance.qzv\u001b[0m\n",
      "\u001b[0m\u001b[32mSaved Visualization to: core-metrics-results/evenness-group-significance.qzv\u001b[0m\n",
      "\u001b[0m"
     ]
    }
   ],
   "source": [
    "qiime diversity alpha-group-significance \\\n",
    "  --i-alpha-diversity core-metrics-results/faith_pd_vector.qza \\\n",
    "  --m-metadata-file sample_metadata.tsv \\\n",
    "  --o-visualization core-metrics-results/faith-pd-group-significance.qzv\n",
    "\n",
    "qiime diversity alpha-group-significance \\\n",
    "  --i-alpha-diversity core-metrics-results/evenness_vector.qza \\\n",
    "  --m-metadata-file sample_metadata.tsv \\\n",
    "  --o-visualization core-metrics-results/evenness-group-significance.qzv"
   ]
  },
  {
   "cell_type": "code",
   "execution_count": 38,
   "metadata": {},
   "outputs": [
    {
     "name": "stdout",
     "output_type": "stream",
     "text": [
      "Press the 'q' key, Control-C, or Control-D to quit. This view may no longer be accessible or work correctly after quitting."
     ]
    }
   ],
   "source": [
    "qiime tools view core-metrics-results/faith-pd-group-significance.qzv"
   ]
  },
  {
   "cell_type": "code",
   "execution_count": 39,
   "metadata": {},
   "outputs": [
    {
     "name": "stdout",
     "output_type": "stream",
     "text": [
      "Press the 'q' key, Control-C, or Control-D to quit. This view may no longer be accessible or work correctly after quitting."
     ]
    }
   ],
   "source": [
    "qiime tools view core-metrics-results/evenness-group-significance.qzv"
   ]
  },
  {
   "cell_type": "markdown",
   "metadata": {},
   "source": [
    "Question\n",
    "\n",
    "Which categorical sample metadata columns are most strongly associated with the differences in microbial community richness? Are these differences statistically significant?\n",
    "\n",
    "Sample type: As expected there are significant differences between sample types ant and nest (p = 1.628048e-13)\n",
    "\n",
    "There are significant differences between negative controls (NA), and ants and nests (p=2.236653e-02 and 1.766337e-03, respectively).\n",
    "\n",
    "There were no significant differences in coniferous and decidious samples (p = 0.473350) however there were differences between negative controls and coniferous and decidious samples (p= 0.008060 and 0.024044, respectively). \n",
    "\n",
    "Note large differences in sample sizes however. \n",
    "\n",
    "There were no significant differences between different locations other than Harlestone Firs adn Negative Control kit 1 (p = 0.043308). \n",
    "\n",
    "For Bedford Perlieus, there were significant differences between nests 1 and 2 (p= 0.037373), and 1 and 4 (p = 0.037373). (All decidious)\n",
    "\n",
    "There were no significant differences between different nests in Dymock Wood. \n",
    "\n",
    "There were no significant differences between nests in Harlestone Firs. \n",
    "\n",
    "There were no significant differences between nests in Wyre Forest. \n",
    "\n",
    "\n",
    "Nests 1, 5 and 6 in Dymock Wood was signifcantly different to the negative controls  (p= 0.019016, p= 0.010515, p= 0.033006).\n",
    "\n",
    "Nests 1, 4, 5, 6 and 7 in Wyre Forest were significantly different to the negative controls (p= 0.019016, p= 0.033006, p=0.019016, p=0.027486, p=0.019016). \n",
    "\n",
    "For Harlestone Firs nests 4 and 5 were significantly different to the negative controls, (p=0.019016, p=0.010515).\n",
    "\n",
    "\n",
    "For Bedford Perlieus, there were significant difference between nests 2, 3 and 4  (p=0.033006, p= 0.010515, p=0.010515)\n",
    "\n",
    "\n",
    "\n",
    "Question\n",
    "\n",
    "Which categorical sample metadata columns are most strongly associated with the differences in microbial community evenness? Are these differences statistically significant?\n",
    "\n",
    "There are statistical differences between all sample types including between ants and nests (p=1.554478e-13), ants and negative controls (p=9.033345e02) and nests and negative controls (1.766337e-03)\n",
    "\n",
    "There are significant differences between coniferous and decidious trees (p=0.000157) but not beween coniferous or decidious trees and negative controls.\n",
    "\n",
    "There are no significant differences between locations.\n",
    "\n",
    "There are no significant differences between different nests in Bedford Perlieus.\n",
    "\n",
    "There was a significant difference between nests 1 and 5 in Dymock Wood (p=0.037373).\n",
    "\n",
    "There were significant differences between Harlestone Firs 2 and 3 (p=0.037373), 3 and 4 (p=0.037373) and 3 and 5 (p=0.037373)\n",
    "\n",
    "There were no significant differences between nests in Wyre Forest.\n",
    "\n",
    "\n"
   ]
  },
  {
   "cell_type": "markdown",
   "metadata": {},
   "source": [
    "Next we’ll analyze sample composition in the context of categorical metadata using PERMANOVA (first described in Anderson (2001)) using the beta-group-significance command. The following commands will test whether distances between samples within a group, such as samples from the same body site (e.g., gut), are more similar to each other then they are to samples from the other groups (e.g., tongue, left palm, and right palm). If you call this command with the --p-pairwise parameter, as we’ll do here, it will also perform pairwise tests that will allow you to determine which specific pairs of groups (e.g., tongue and gut) differ from one another, if any. This command can be slow to run, especially when passing --p-pairwise, since it is based on permutation tests. So, unlike the previous commands, we’ll run beta-group-significance on specific columns of metadata that we’re interested in exploring, rather than all metadata columns to which it is applicable. Here we’ll apply this to our unweighted UniFrac distances, using two sample metadata columns, as follows.\n"
   ]
  },
  {
   "cell_type": "code",
   "execution_count": 40,
   "metadata": {},
   "outputs": [
    {
     "name": "stdout",
     "output_type": "stream",
     "text": [
      "\u001b[32mSaved Visualization to: core-metrics-results/unweighted-unifrac-tree-type-significance.qzv\u001b[0m\n",
      "\u001b[0m"
     ]
    }
   ],
   "source": [
    "qiime diversity beta-group-significance \\\n",
    "  --i-distance-matrix core-metrics-results/unweighted_unifrac_distance_matrix.qza \\\n",
    "  --m-metadata-file sample_metadata.tsv \\\n",
    "  --m-metadata-column tree-type \\\n",
    "  --o-visualization core-metrics-results/unweighted-unifrac-tree-type-significance.qzv \\\n",
    "  --p-pairwise\n"
   ]
  },
  {
   "cell_type": "code",
   "execution_count": 44,
   "metadata": {},
   "outputs": [
    {
     "name": "stdout",
     "output_type": "stream",
     "text": [
      "Press the 'q' key, Control-C, or Control-D to quit. This view may no longer be accessible or work correctly after quitting."
     ]
    }
   ],
   "source": [
    "qiime tools view core-metrics-results/unweighted-unifrac-tree-type-significance.qzv"
   ]
  },
  {
   "cell_type": "markdown",
   "metadata": {},
   "source": [
    "There is a significant difference between coniferous and decidious samples (p=0.002), and both coniferous samples and negative controls (p=0.007) and decdidious samples and negative controls (p=0.011)"
   ]
  },
  {
   "cell_type": "code",
   "execution_count": 41,
   "metadata": {},
   "outputs": [
    {
     "name": "stdout",
     "output_type": "stream",
     "text": [
      "\u001b[32mSaved Visualization to: core-metrics-results/unweighted-unifrac-location-group-significance.qzv\u001b[0m\n",
      "\u001b[0m"
     ]
    }
   ],
   "source": [
    "qiime diversity beta-group-significance \\\n",
    "  --i-distance-matrix core-metrics-results/unweighted_unifrac_distance_matrix.qza \\\n",
    "  --m-metadata-file sample_metadata.tsv \\\n",
    "  --m-metadata-column location \\\n",
    "  --o-visualization core-metrics-results/unweighted-unifrac-location-group-significance.qzv \\\n",
    "  --p-pairwise"
   ]
  },
  {
   "cell_type": "code",
   "execution_count": 45,
   "metadata": {},
   "outputs": [
    {
     "name": "stdout",
     "output_type": "stream",
     "text": [
      "Press the 'q' key, Control-C, or Control-D to quit. This view may no longer be accessible or work correctly after quitting."
     ]
    }
   ],
   "source": [
    "qiime tools view core-metrics-results/unweighted-unifrac-location-group-significance.qzv"
   ]
  },
  {
   "cell_type": "markdown",
   "metadata": {},
   "source": [
    "There were significant differences between all locations other than the two negative control kits, Bedford Perlieus and Negative Control Kit 1."
   ]
  },
  {
   "cell_type": "code",
   "execution_count": 42,
   "metadata": {},
   "outputs": [
    {
     "name": "stdout",
     "output_type": "stream",
     "text": [
      "\u001b[32mSaved Visualization to: core-metrics-results/unweighted-unifrac-sample-type-group-significance.qzv\u001b[0m\n",
      "\u001b[0m"
     ]
    }
   ],
   "source": [
    "qiime diversity beta-group-significance \\\n",
    "  --i-distance-matrix core-metrics-results/unweighted_unifrac_distance_matrix.qza \\\n",
    "  --m-metadata-file sample_metadata.tsv \\\n",
    "  --m-metadata-column sample-type \\\n",
    "  --o-visualization core-metrics-results/unweighted-unifrac-sample-type-group-significance.qzv \\\n",
    "  --p-pairwise"
   ]
  },
  {
   "cell_type": "code",
   "execution_count": 46,
   "metadata": {},
   "outputs": [
    {
     "name": "stdout",
     "output_type": "stream",
     "text": [
      "Press the 'q' key, Control-C, or Control-D to quit. This view may no longer be accessible or work correctly after quitting."
     ]
    }
   ],
   "source": [
    "qiime tools view core-metrics-results/unweighted-unifrac-sample-type-group-significance.qzv"
   ]
  },
  {
   "cell_type": "markdown",
   "metadata": {},
   "source": [
    "There were significant differences between all sample types (p=0.001)."
   ]
  },
  {
   "cell_type": "code",
   "execution_count": 47,
   "metadata": {},
   "outputs": [
    {
     "name": "stdout",
     "output_type": "stream",
     "text": [
      "\u001b[32mSaved Visualization to: core-metrics-results/unweighted-unifrac-nest-no-group-significance.qzv\u001b[0m\n",
      "\u001b[0m"
     ]
    }
   ],
   "source": [
    "qiime diversity beta-group-significance \\\n",
    "  --i-distance-matrix core-metrics-results/unweighted_unifrac_distance_matrix.qza \\\n",
    "  --m-metadata-file sample_metadata.tsv \\\n",
    "  --m-metadata-column nest-no \\\n",
    "  --o-visualization core-metrics-results/unweighted-unifrac-nest-no-group-significance.qzv \\\n",
    "  --p-pairwise"
   ]
  },
  {
   "cell_type": "code",
   "execution_count": 48,
   "metadata": {},
   "outputs": [
    {
     "name": "stdout",
     "output_type": "stream",
     "text": [
      "Press the 'q' key, Control-C, or Control-D to quit. This view may no longer be accessible or work correctly after quitting."
     ]
    }
   ],
   "source": [
    "qiime tools view core-metrics-results/unweighted-unifrac-nest-no-group-significance.qzv"
   ]
  },
  {
   "cell_type": "markdown",
   "metadata": {},
   "source": [
    "Alpha rarefaction plotting\n",
    "\n",
    "In this section we’ll explore alpha diversity as a function of sampling depth using the qiime diversity alpha-rarefaction visualizer. This visualizer computes one or more alpha diversity metrics at multiple sampling depths, in steps between 1 (optionally controlled with --p-min-depth) and the value provided as --p-max-depth. At each sampling depth step, 10 rarefied tables will be generated, and the diversity metrics will be computed for all samples in the tables. The number of iterations (rarefied tables computed at each sampling depth) can be controlled with --p-iterations. Average diversity values will be plotted for each sample at each even sampling depth, and samples can be grouped based on metadata in the resulting visualization if sample metadata is provided with the --m-metadata-file parameter.\n",
    "\n",
    "NOTE: HOW TO CHOOSE MAX-DEPTH?\n",
    "\n",
    "Note\n",
    "\n",
    "The value that you provide for --p-max-depth should be determined by reviewing the “Frequency per sample” information presented in the table.qzv file that was created above. In general, choosing a value that is somewhere around the median frequency seems to work well, but you may want to increase that value if the lines in the resulting rarefaction plot don’t appear to be leveling out, or decrease that value if you seem to be losing many of your samples due to low total frequencies closer to the minimum sampling depth than the maximum sampling depth.\n",
    "\n",
    "The visualization will have two plots. The top plot is an alpha rarefaction plot, and is primarily used to determine if the richness of the samples has been fully observed or sequenced. If the lines in the plot appear to “level out” (i.e., approach a slope of zero) at some sampling depth along the x-axis, that suggests that collecting additional sequences beyond that sampling depth would not be likely to result in the observation of additional features. If the lines in a plot don’t level out, this may be because the richness of the samples hasn’t been fully observed yet (because too few sequences were collected), or it could be an indicator that a lot of sequencing error remains in the data (which is being mistaken for novel diversity).\n",
    "\n",
    "The bottom plot in this visualization is important when grouping samples by metadata. It illustrates the number of samples that remain in each group when the feature table is rarefied to each sampling depth. If a given sampling depth d is larger than the total frequency of a sample s (i.e., the number of sequences that were obtained for sample s), it is not possible to compute the diversity metric for sample s at sampling depth d. If many of the samples in a group have lower total frequencies than d, the average diversity presented for that group at d in the top plot will be unreliable because it will have been computed on relatively few samples. When grouping samples by metadata, it is therefore essential to look at the bottom plot to ensure that the data presented in the top plot is reliable.\n",
    "\n",
    "67,184.5 is the median frequency in table.qzv\n",
    "\n",
    "NOTE: Consider other strategies to rarefaction. How is this different from the p-sampling-depth chosen earlier in qiime diversity core-metrics-phylogenetic. Should it be the same?"
   ]
  },
  {
   "cell_type": "code",
   "execution_count": 50,
   "metadata": {},
   "outputs": [
    {
     "name": "stdout",
     "output_type": "stream",
     "text": [
      "Press the 'q' key, Control-C, or Control-D to quit. This view may no longer be accessible or work correctly after quitting."
     ]
    }
   ],
   "source": [
    "qiime tools view table.qzv"
   ]
  },
  {
   "cell_type": "code",
   "execution_count": 51,
   "metadata": {},
   "outputs": [
    {
     "name": "stdout",
     "output_type": "stream",
     "text": [
      "\u001b[32mSaved Visualization to: alpha-rarefaction.qzv\u001b[0m\n",
      "\u001b[0m"
     ]
    }
   ],
   "source": [
    "qiime diversity alpha-rarefaction \\\n",
    "  --i-table table.qza \\\n",
    "  --i-phylogeny rooted-tree.qza \\\n",
    "  --p-max-depth 67184 \\\n",
    "  --m-metadata-file sample_metadata.tsv \\\n",
    "  --o-visualization alpha-rarefaction.qzv"
   ]
  },
  {
   "cell_type": "code",
   "execution_count": 52,
   "metadata": {},
   "outputs": [
    {
     "name": "stdout",
     "output_type": "stream",
     "text": [
      "Press the 'q' key, Control-C, or Control-D to quit. This view may no longer be accessible or work correctly after quitting."
     ]
    }
   ],
   "source": [
    "qiime tools view alpha-rarefaction.qzv"
   ]
  },
  {
   "cell_type": "markdown",
   "metadata": {},
   "source": [
    "Taxonomic analysis\n",
    "\n",
    "In the next sections we’ll begin to explore the taxonomic composition of the samples, and again relate that to sample metadata. The first step in this process is to assign taxonomy to the sequences in our FeatureData[Sequence] QIIME 2 artifact. We’ll do that using a trained Naive Bayes classifier and the q2-feature-classifier plugin. \n",
    "\n",
    "Taxonomic classifiers perform best when they are trained based on your specific sample preparation and sequencing parameters, including the primers that were used for amplification and the length of your sequence reads. Therefore in general you should follow the instructions in Training feature classifiers with q2-feature-classifier to train your own taxonomic classifiers. We provide some common classifiers on our data resources page, including Silva-based 16S classifiers, though in the future we may stop providing these in favor of having users train their own classifiers which will be most relevant to their sequence data.\n",
    "\n",
    "Training feature classifiers with q2-feature-classifier\n",
    "\n",
    "https://docs.qiime2.org/2022.2/tutorials/feature-classifier/ \n",
    "\n",
    "Taxonomic classifiers perform best when they are trained based on your specific sample preparation and sequencing parameters, including the primers that were used for amplification and the length of your sequence reads. Therefore in general you should follow the instructions in Training feature classifiers with q2-feature-classifier to train your own taxonomic classifiers (for example, from the marker gene reference databases in the link below).\n",
    "\n",
    "https://docs.qiime2.org/2022.2/data-resources/\n",
    "\n",
    "\n",
    "I have chosen to use SILVA as it is the most comprehensive database and better for environmental, non human analyses? These are already formatted for qiime 2.\n",
    "\n",
    "Silva 138 SSURef NR99 515F/806R region sequences:\n",
    "https://data.qiime2.org/2022.2/common/silva-138-99-seqs-515-806.qza (MD5: a914837bc3f8964b156a9653e2420d22)\n",
    "\n",
    "\n",
    "Silva 138 SSURef NR99 515F/806R region taxonomy \n",
    "https://data.qiime2.org/2022.2/common/silva-138-99-tax-515-806.qza (MD5: e2c40ae4c60cbf75e24312bb24652f2c)\n",
    "\n",
    "Please cite the following references if you use any of these pre-formatted files:\n",
    "\n",
    "Michael S Robeson II, Devon R O’Rourke, Benjamin D Kaehler, Michal Ziemski, Matthew R Dillon, Jeffrey T Foster, Nicholas A Bokulich. RESCRIPt: Reproducible sequence taxonomy reference database management for the masses. bioRxiv 2020.10.05.326504; doi: https://doi.org/10.1101/2020.10.05.326504\n"
   ]
  },
  {
   "cell_type": "code",
   "execution_count": 56,
   "metadata": {},
   "outputs": [],
   "source": [
    "cd training-feature-classifier"
   ]
  },
  {
   "cell_type": "code",
   "execution_count": null,
   "metadata": {},
   "outputs": [
    {
     "name": "stdout",
     "output_type": "stream",
     "text": [
      "/Users/d1794974/Documents/PhD/Wood_ants/Amplicon_sequencing/qiime2-analysis/training-feature-classifier\n"
     ]
    }
   ],
   "source": [
    "pwd"
   ]
  },
  {
   "cell_type": "code",
   "execution_count": 53,
   "metadata": {},
   "outputs": [
    {
     "name": "stdout",
     "output_type": "stream",
     "text": [
      "--2022-06-13 18:44:50--  https://data.qiime2.org/2022.2/common/silva-138-99-seqs-515-806.qza\n",
      "Resolving data.qiime2.org (data.qiime2.org)... 54.200.1.12\n",
      "Connecting to data.qiime2.org (data.qiime2.org)|54.200.1.12|:443... connected.\n",
      "HTTP request sent, awaiting response... 302 FOUND\n",
      "Location: https://qiime2-data.s3-us-west-2.amazonaws.com/2022.2/common/silva-138-99-seqs-515-806.qza [following]\n",
      "--2022-06-13 18:44:51--  https://qiime2-data.s3-us-west-2.amazonaws.com/2022.2/common/silva-138-99-seqs-515-806.qza\n",
      "Resolving qiime2-data.s3-us-west-2.amazonaws.com (qiime2-data.s3-us-west-2.amazonaws.com)... 52.92.176.162\n",
      "Connecting to qiime2-data.s3-us-west-2.amazonaws.com (qiime2-data.s3-us-west-2.amazonaws.com)|52.92.176.162|:443... connected.\n",
      "HTTP request sent, awaiting response... 200 OK\n",
      "Length: 14620394 (14M) [binary/octet-stream]\n",
      "Saving to: ‘silva-138-99-seqs-515-806.qza’\n",
      "\n",
      "silva-138-99-seqs-5 100%[===================>]  13.94M  5.77MB/s    in 2.4s    \n",
      "\n",
      "2022-06-13 18:44:55 (5.77 MB/s) - ‘silva-138-99-seqs-515-806.qza’ saved [14620394/14620394]\n",
      "\n",
      "--2022-06-13 18:44:55--  https://data.qiime2.org/2022.2/common/silva-138-99-tax-515-806.qza%20\n",
      "Resolving data.qiime2.org (data.qiime2.org)... 54.200.1.12\n",
      "Connecting to data.qiime2.org (data.qiime2.org)|54.200.1.12|:443... connected.\n",
      "HTTP request sent, awaiting response... 404 NOT FOUND\n",
      "2022-06-13 18:44:56 ERROR 404: NOT FOUND.\n",
      "\n"
     ]
    },
    {
     "ename": "",
     "evalue": "8",
     "execution_count": 53,
     "output_type": "error",
     "traceback": []
    }
   ],
   "source": [
    "wget \\\n",
    "  -O \"silva-138-99-seqs-515-806.qza\" \\\n",
    "  \"https://data.qiime2.org/2022.2/common/silva-138-99-seqs-515-806.qza\"\n"
   ]
  },
  {
   "cell_type": "code",
   "execution_count": 55,
   "metadata": {},
   "outputs": [
    {
     "name": "stdout",
     "output_type": "stream",
     "text": [
      "--2022-06-13 18:46:29--  https://data.qiime2.org/2022.2/common/silva-138-99-tax-515-806.qza\n",
      "Resolving data.qiime2.org (data.qiime2.org)... 54.200.1.12\n",
      "Connecting to data.qiime2.org (data.qiime2.org)|54.200.1.12|:443... connected.\n",
      "HTTP request sent, awaiting response... 302 FOUND\n",
      "Location: https://qiime2-data.s3-us-west-2.amazonaws.com/2022.2/common/silva-138-99-tax-515-806.qza [following]\n",
      "--2022-06-13 18:46:30--  https://qiime2-data.s3-us-west-2.amazonaws.com/2022.2/common/silva-138-99-tax-515-806.qza\n",
      "Resolving qiime2-data.s3-us-west-2.amazonaws.com (qiime2-data.s3-us-west-2.amazonaws.com)... 52.218.144.1\n",
      "Connecting to qiime2-data.s3-us-west-2.amazonaws.com (qiime2-data.s3-us-west-2.amazonaws.com)|52.218.144.1|:443... connected.\n",
      "HTTP request sent, awaiting response... 200 OK\n",
      "Length: 5580678 (5.3M) [binary/octet-stream]\n",
      "Saving to: ‘silva-138-99-tax-515-806.qza’\n",
      "\n",
      "silva-138-99-tax-51 100%[===================>]   5.32M  2.40MB/s    in 2.2s    \n",
      "\n",
      "2022-06-13 18:46:33 (2.40 MB/s) - ‘silva-138-99-tax-515-806.qza’ saved [5580678/5580678]\n",
      "\n"
     ]
    }
   ],
   "source": [
    "wget \\\n",
    "  -O \"silva-138-99-tax-515-806.qza\" \\\n",
    "  \"https://data.qiime2.org/2022.2/common/silva-138-99-tax-515-806.qza\""
   ]
  },
  {
   "cell_type": "markdown",
   "metadata": {},
   "source": [
    "Extract reference reads\n",
    "\n",
    "It has been shown that taxonomic classification accuracy of 16S rRNA gene sequences improves when a Naive Bayes classifier is trained on only the region of the target sequences that was sequenced (Werner et al., 2012). This may not necessarily generalize to other marker genes (see note on fungal ITS classification below). We know from the Moving Pictures tutorial that the sequence reads that we’re trying to classify are 120-base single-end reads that were amplified with the 515F/806R primer pair for 16S rRNA gene sequences. We optimize for that here by extracting reads from the reference database based on matches to this primer pair, and then slicing the result to 120 bases.\n",
    "\n",
    "Note\n",
    "\n",
    "The --p-trunc-len parameter should only be used to trim reference sequences if query sequences are trimmed to this same length or shorter. Paired-end sequences that successfully join will typically be variable in length. Single-end reads that are not truncated at a specific length may also be variable in length. For classification of paired-end reads and untrimmed single-end reads, we recommend training a classifier on sequences that have been extracted at the appropriate primer sites, but are not trimmed.\n",
    "\n",
    "Note\n",
    "\n",
    "The primer sequences used for extracting reads should be the actual DNA-binding (i.e., biological) sequence contained within a primer construct. It should NOT contain any non-biological, non-binding sequence, e.g., adapter, linker, or barcode sequences. If you are not sure what section of your primer sequences are actual DNA-binding, you should consult whoever constructed your sequencing library, your sequencing center, or the original source literature on these primers. If your primer sequences are > 30 nt long, they most likely contain some non-biological sequence.\n",
    "\n",
    "Note\n",
    "\n",
    "The example command uses the min-length and max-length parameters to exclude simulated amplicons that are far outside of the anticipated length distribution using those primers. Such amplicons are likely non-target hits and should be excluded. If you adapt this command for your own use, be sure to select settings that are appropriate for the marker gene, not the settings used here. The min-length parameter is applied _after_ the trim-left and trunc-len parameters, and max-length _before_, so be sure to set appropriate settings to prevent valid sequences from being filtered out."
   ]
  },
  {
   "cell_type": "code",
   "execution_count": 59,
   "metadata": {},
   "outputs": [
    {
     "name": "stdout",
     "output_type": "stream",
     "text": [
      "\u001b[32mSaved FeatureData[Sequence] to: ref-seqs.qza\u001b[0m\n",
      "\u001b[0m"
     ]
    }
   ],
   "source": [
    "qiime feature-classifier extract-reads \\\n",
    "  --i-sequences silva-138-99-seqs-515-806.qza \\\n",
    "  --p-f-primer GTGCCAGCMGCCGCGGTAA \\\n",
    "  --p-r-primer GGACTACHVGGGTWTCTAAT \\\n",
    "  --p-trunc-len 120 \\\n",
    "  --p-min-length 100 \\\n",
    "  --p-max-length 400 \\\n",
    "  --o-reads ref-seqs.qza"
   ]
  },
  {
   "cell_type": "markdown",
   "metadata": {},
   "source": [
    "Train the classifier\n",
    "\n",
    "We can now train a Naive Bayes classifier as follows, using the reference reads and taxonomy that we just created."
   ]
  },
  {
   "cell_type": "code",
   "execution_count": 60,
   "metadata": {},
   "outputs": [
    {
     "name": "stdout",
     "output_type": "stream",
     "text": [
      "\u001b[32mSaved TaxonomicClassifier to: classifier.qza\u001b[0m\n",
      "\u001b[0m"
     ]
    }
   ],
   "source": [
    "qiime feature-classifier fit-classifier-naive-bayes \\\n",
    "  --i-reference-reads ref-seqs.qza \\\n",
    "  --i-reference-taxonomy silva-138-99-tax-515-806.qza \\\n",
    "  --o-classifier classifier.qza"
   ]
  },
  {
   "cell_type": "markdown",
   "metadata": {},
   "source": [
    "Run the classifier\n",
    "\n",
    "Finally, we run the classifier and visualize the resulting taxonomic assignments."
   ]
  },
  {
   "cell_type": "code",
   "execution_count": 61,
   "metadata": {},
   "outputs": [
    {
     "name": "stdout",
     "output_type": "stream",
     "text": [
      "\u001b[32mSaved FeatureData[Taxonomy] to: taxonomy.qza\u001b[0m\n",
      "\u001b[0m\u001b[32mSaved Visualization to: taxonomy.qzv\u001b[0m\n",
      "\u001b[0m"
     ]
    }
   ],
   "source": [
    "qiime feature-classifier classify-sklearn \\\n",
    "  --i-classifier classifier.qza \\\n",
    "  --i-reads ../rep-seqs.qza \\\n",
    "  --o-classification taxonomy.qza\n",
    "\n",
    "qiime metadata tabulate \\\n",
    "  --m-input-file taxonomy.qza \\\n",
    "  --o-visualization taxonomy.qzv"
   ]
  },
  {
   "cell_type": "code",
   "execution_count": 62,
   "metadata": {},
   "outputs": [
    {
     "name": "stdout",
     "output_type": "stream",
     "text": [
      "Press the 'q' key, Control-C, or Control-D to quit. This view may no longer be accessible or work correctly after quitting."
     ]
    }
   ],
   "source": [
    "qiime tools view taxonomy.qzv"
   ]
  },
  {
   "cell_type": "markdown",
   "metadata": {},
   "source": [
    "Question\n",
    "\n",
    "Recall that our rep-seqs.qzv visualization allows you to easily BLAST the sequence associated with each feature against the NCBI nt database. Using that visualization and the taxonomy.qzv visualization created here, compare the taxonomic assignments with the taxonomy of the best BLAST hit for a few features. How similar are the assignments? If they’re dissimilar, at what taxonomic level do they begin to differ (e.g., species, genus, family, …)?"
   ]
  },
  {
   "cell_type": "raw",
   "metadata": {},
   "source": [
    "ctrl + f \"3f9039099b54f1eba31199c691937c3a\" (example feature from rep-seqs.qzv) in taxonomy.qzv\n",
    "\n",
    "Taxon is d__Bacteria; p__Firmicutes; c__Bacilli\n",
    "Top blast results are Bacillus cohnii with 100% identity for the entire 253 bp length sequence.\n",
    "\n"
   ]
  },
  {
   "cell_type": "code",
   "execution_count": null,
   "metadata": {},
   "outputs": [],
   "source": [
    "cd .. # change directory back to main analysis folder"
   ]
  },
  {
   "cell_type": "code",
   "execution_count": 65,
   "metadata": {},
   "outputs": [
    {
     "name": "stdout",
     "output_type": "stream",
     "text": [
      "Press the 'q' key, Control-C, or Control-D to quit. This view may no longer be accessible or work correctly after quitting."
     ]
    }
   ],
   "source": [
    "qiime tools view rep-seqs.qzv"
   ]
  },
  {
   "cell_type": "markdown",
   "metadata": {},
   "source": [
    "Next, we can view the taxonomic composition of our samples with interactive bar plots. Generate those plots with the following command and then open the visualization."
   ]
  },
  {
   "cell_type": "code",
   "execution_count": 70,
   "metadata": {},
   "outputs": [
    {
     "name": "stdout",
     "output_type": "stream",
     "text": [
      "\u001b[32mSaved Visualization to: taxa-bar-plots.qzv\u001b[0m\n",
      "\u001b[0m"
     ]
    }
   ],
   "source": [
    "qiime taxa barplot \\\n",
    "  --i-table table.qza \\\n",
    "  --i-taxonomy training-feature-classifier/taxonomy.qza \\\n",
    "  --m-metadata-file sample_metadata.tsv \\\n",
    "  --o-visualization taxa-bar-plots.qzv"
   ]
  },
  {
   "cell_type": "code",
   "execution_count": 72,
   "metadata": {},
   "outputs": [
    {
     "name": "stdout",
     "output_type": "stream",
     "text": [
      "Press the 'q' key, Control-C, or Control-D to quit. This view may no longer be accessible or work correctly after quitting."
     ]
    }
   ],
   "source": [
    "qiime tools view taxa-bar-plots.qzv"
   ]
  },
  {
   "cell_type": "markdown",
   "metadata": {},
   "source": [
    "Differential abundance testing with ANCOM\n",
    "\n",
    "ANCOM can be applied to identify features that are differentially abundant (i.e. present in different abundances) across sample groups. As with any bioinformatics method, you should be aware of the assumptions and limitations of ANCOM before using it. We recommend reviewing the ANCOM paper before using this method.\n",
    "\n",
    "Note\n",
    "\n",
    "Differential abundance testing in microbiome analysis is an active area of research. There are two QIIME 2 plugins that can be used for this: q2-gneiss and q2-composition. This section uses q2-composition, but there is another tutorial which uses gneiss on a different dataset if you are interested in learning more.\n",
    "\n",
    "ANCOM is implemented in the q2-composition plugin. ANCOM assumes that few (less than about 25%) of the features are changing between groups. If you expect that more features are changing between your groups, you should not use ANCOM as it will be more error-prone (an increase in both Type I and Type II errors is possible). Because we expect a lot of features to change in abundance across body sites, in this tutorial we’ll filter our full feature table to only contain one sample type. We’ll then apply ANCOM to determine which, if any, sequence variants and genera are differentially abundant across each sample type of the different locations.\n",
    "\n",
    "We’ll start by creating a feature table that contains only the nest samples. (To learn more about filtering, see the Filtering Data tutorial.) "
   ]
  },
  {
   "cell_type": "code",
   "execution_count": 73,
   "metadata": {},
   "outputs": [
    {
     "name": "stdout",
     "output_type": "stream",
     "text": [
      "\u001b[32mSaved FeatureTable[Frequency] to: ant-table.qza\u001b[0m\n",
      "\u001b[0m"
     ]
    }
   ],
   "source": [
    "qiime feature-table filter-samples \\\n",
    "  --i-table table.qza \\\n",
    "  --m-metadata-file sample_metadata.tsv \\\n",
    "  --p-where \"[sample-type]='ant'\" \\\n",
    "  --o-filtered-table ant-table.qza"
   ]
  },
  {
   "cell_type": "markdown",
   "metadata": {},
   "source": [
    "ANCOM operates on a FeatureTable[Composition] QIIME 2 artifact, which is based on frequencies of features on a per-sample basis, but cannot tolerate frequencies of zero. To build the composition artifact, a FeatureTable[Frequency] artifact must be provided to add-pseudocount (an imputation method), which will produce the FeatureTable[Composition] artifact."
   ]
  },
  {
   "cell_type": "code",
   "execution_count": 74,
   "metadata": {},
   "outputs": [
    {
     "name": "stdout",
     "output_type": "stream",
     "text": [
      "\u001b[32mSaved FeatureTable[Composition] to: comp-table.qza\u001b[0m\n",
      "\u001b[0m"
     ]
    }
   ],
   "source": [
    "qiime composition add-pseudocount \\\n",
    "  --i-table ant-table.qza \\\n",
    "  --o-composition-table comp-table.qza"
   ]
  },
  {
   "cell_type": "markdown",
   "metadata": {},
   "source": [
    "We can then run ANCOM on the subject column to determine what features differ in abundance across the samples of the different locations. Note: this can take a long time. Took about 4 hours for ant comp-table and location metadata column as below: "
   ]
  },
  {
   "cell_type": "code",
   "execution_count": 75,
   "metadata": {},
   "outputs": [
    {
     "name": "stdout",
     "output_type": "stream",
     "text": [
      "\u001b[32mSaved Visualization to: ancom-location.qzv\u001b[0m\n",
      "\u001b[0m"
     ]
    }
   ],
   "source": [
    "qiime composition ancom \\\n",
    "  --i-table comp-table.qza \\\n",
    "  --m-metadata-file sample_metadata.tsv \\\n",
    "  --m-metadata-column location \\\n",
    "  --o-visualization ancom-location.qzv"
   ]
  },
  {
   "cell_type": "code",
   "execution_count": 92,
   "metadata": {},
   "outputs": [
    {
     "name": "stdout",
     "output_type": "stream",
     "text": [
      "Press the 'q' key, Control-C, or Control-D to quit. This view may no longer be accessible or work correctly after quitting."
     ]
    }
   ],
   "source": [
    "qiime tools view ancom-location.qzv"
   ]
  },
  {
   "cell_type": "markdown",
   "metadata": {},
   "source": [
    "For the volcano plot, you are looking at the W statistic on the y-axis, and the F-score on the x-axis. So basically the x-axis is summarizing the effect size difference of the given species between your treatment groups, and the y-axis is the strength of the ANCOM test statistic.\n",
    "\n",
    "What you want to get out of this sort of plot are the ASVs with a high F-score and a high W-statistic – in other words points that are close to the the top right corner. These indicate that an ASV is suspected to be truly different across the groups.\n",
    "\n",
    "Specify W cutoff for anacom?\n",
    "https://forum.qiime2.org/t/specify-w-cutoff-for-anacom/1844?u=mortonjt\n",
    "\n",
    "Differential abundance is a super touchy topic – there are hundreds of tools out there to do this, and all of them have their own set of assumptions and weaknesses.\n",
    "\n",
    "The threshold for the W value is automatically determined (see ANCOM paper https://www.ncbi.nlm.nih.gov/pmc/articles/PMC4450248/), so the hypothesis rejection process is a bit hidden from the user. So no, you cannot set threshold for the W-value."
   ]
  },
  {
   "cell_type": "markdown",
   "metadata": {},
   "source": [
    "We’re also often interested in performing a differential abundance test at a specific taxonomic level. To do this, we can collapse the features in our FeatureTable[Frequency] at the taxonomic level of interest, and then re-run the above steps. "
   ]
  },
  {
   "cell_type": "markdown",
   "metadata": {},
   "source": [
    "Ancom statistical results table shows the features that reject the null hypothesis, which means that they are differentially abundant\n",
    "\n",
    "Percentile abundance of features by group table shows the percentile of the features in different groups. Numbers are the number of reads of those features. see explaiation: https://forum.qiime2.org/t/interpreting-values-from-an-ancom-percentile-abundance-table/1497/14?u=nicholas_bokulich\n",
    "\n",
    "\"The minimum value (denoted by Percentile 0) is 1 (which in your case is actually zero since you added a pseudocount in ANCOM). And your maximum (denoted by Percentile 100) is 57. The median (denoted by Percentile 50) is 23. Percentiles 25 and 75 just denote quartiles.\n",
    "\n",
    "You mentioned that the bacteria X (some taxon) percentiles for your treatment1 category are as follows:\n",
    "\n",
    "Min: 1\n",
    "25th percentile: 84\n",
    "50th percentile (median): 283\n",
    "75th percentile: 825\n",
    "Max: 3645\n",
    "\n",
    "The interpretations of these values are as follows:\n",
    "\n",
    "Min: in the table provided as input to ancom, of the samples in the treatment1 group, in the sample with the lowest count of sequences assigned to bacteria X, one sequence was observed that was ultimately assigned the taxon bacteria X.\n",
    "\n",
    "25th percentile: In 25% of the samples in the treatment1 group, 84 or fewer sequences were observed that were ultimately assigned the taxon bacteria X.\n",
    "\n",
    "50th percentile (median): In half of the samples in the treatment1 group, 283 or fewer sequences were observed that were ultimately assigned the taxon bacteria X.\n",
    "\n",
    "75th percentile: In 75% of the samples in the treatment1 group, 825 or fewer sequences were observed that were ultimately assigned the taxon bacteria X.\n",
    "\n",
    "Max: Of the samples in the treatment1 group, in the sample with the highest count of sequences assigned to bacteria X, 3645 sequences were observed that were ultimately assigned the taxon bacteria X.\"\n",
    "\n",
    "You can visualise this as a box plot as shown in the link."
   ]
  },
  {
   "cell_type": "code",
   "execution_count": 86,
   "metadata": {},
   "outputs": [
    {
     "name": "stdout",
     "output_type": "stream",
     "text": [
      "\u001b[32mSaved FeatureTable[Frequency] to: ant-table-l7.qza\u001b[0m\n",
      "\u001b[0m\u001b[32mSaved FeatureTable[Composition] to: comp-ant-table-l7.qza\u001b[0m\n",
      "\u001b[0m\u001b[32mSaved Visualization to: l7-ancom-location.qzv\u001b[0m\n",
      "\u001b[0m"
     ]
    }
   ],
   "source": [
    "qiime taxa collapse \\\n",
    "  --i-table ant-table.qza \\\n",
    "  --i-taxonomy training-feature-classifier/taxonomy.qza \\\n",
    "  --p-level 7 \\\n",
    "  --o-collapsed-table ant-table-l7.qza\n",
    "\n",
    "qiime composition add-pseudocount \\\n",
    "  --i-table ant-table-l7.qza \\\n",
    "  --o-composition-table comp-ant-table-l7.qza\n",
    "\n",
    "qiime composition ancom \\\n",
    "  --i-table comp-ant-table-l7.qza \\\n",
    "  --m-metadata-file sample_metadata.tsv \\\n",
    "  --m-metadata-column location \\\n",
    "  --o-visualization l7-ancom-location.qzv"
   ]
  },
  {
   "cell_type": "code",
   "execution_count": 89,
   "metadata": {},
   "outputs": [
    {
     "name": "stdout",
     "output_type": "stream",
     "text": [
      "Press the 'q' key, Control-C, or Control-D to quit. This view may no longer be accessible or work correctly after quitting."
     ]
    }
   ],
   "source": [
    "qiime tools view l7-ancom-location.qzv"
   ]
  },
  {
   "cell_type": "code",
   "execution_count": 78,
   "metadata": {},
   "outputs": [
    {
     "name": "stdout",
     "output_type": "stream",
     "text": [
      "\u001b[32mSaved FeatureTable[Frequency] to: ant-table-l6.qza\u001b[0m\n",
      "\u001b[0m\u001b[32mSaved FeatureTable[Composition] to: comp-ant-table-l6.qza\u001b[0m\n",
      "\u001b[0m\u001b[32mSaved Visualization to: l6-ancom-location.qzv\u001b[0m\n",
      "\u001b[0m"
     ]
    }
   ],
   "source": [
    "qiime taxa collapse \\\n",
    "  --i-table ant-table.qza \\\n",
    "  --i-taxonomy training-feature-classifier/taxonomy.qza \\\n",
    "  --p-level 6 \\\n",
    "  --o-collapsed-table ant-table-l6.qza\n",
    "\n",
    "qiime composition add-pseudocount \\\n",
    "  --i-table ant-table-l6.qza \\\n",
    "  --o-composition-table comp-ant-table-l6.qza\n",
    "\n",
    "qiime composition ancom \\\n",
    "  --i-table comp-ant-table-l6.qza \\\n",
    "  --m-metadata-file sample_metadata.tsv \\\n",
    "  --m-metadata-column location \\\n",
    "  --o-visualization l6-ancom-location.qzv"
   ]
  },
  {
   "cell_type": "code",
   "execution_count": 79,
   "metadata": {},
   "outputs": [
    {
     "name": "stdout",
     "output_type": "stream",
     "text": [
      "Press the 'q' key, Control-C, or Control-D to quit. This view may no longer be accessible or work correctly after quitting."
     ]
    }
   ],
   "source": [
    "qiime tools view l6-ancom-location.qzv"
   ]
  },
  {
   "cell_type": "code",
   "execution_count": 80,
   "metadata": {},
   "outputs": [
    {
     "name": "stdout",
     "output_type": "stream",
     "text": [
      "\u001b[32mSaved FeatureTable[Frequency] to: ant-table-l5.qza\u001b[0m\n",
      "\u001b[0m\u001b[32mSaved FeatureTable[Composition] to: comp-ant-table-l5.qza\u001b[0m\n",
      "\u001b[0m\u001b[32mSaved Visualization to: l5-ancom-location.qzv\u001b[0m\n",
      "\u001b[0m"
     ]
    }
   ],
   "source": [
    "qiime taxa collapse \\\n",
    "  --i-table ant-table.qza \\\n",
    "  --i-taxonomy training-feature-classifier/taxonomy.qza \\\n",
    "  --p-level 5 \\\n",
    "  --o-collapsed-table ant-table-l5.qza\n",
    "\n",
    "qiime composition add-pseudocount \\\n",
    "  --i-table ant-table-l5.qza \\\n",
    "  --o-composition-table comp-ant-table-l5.qza\n",
    "\n",
    "qiime composition ancom \\\n",
    "  --i-table comp-ant-table-l5.qza \\\n",
    "  --m-metadata-file sample_metadata.tsv \\\n",
    "  --m-metadata-column location \\\n",
    "  --o-visualization l5-ancom-location.qzv"
   ]
  },
  {
   "cell_type": "code",
   "execution_count": 81,
   "metadata": {},
   "outputs": [
    {
     "name": "stdout",
     "output_type": "stream",
     "text": [
      "Press the 'q' key, Control-C, or Control-D to quit. This view may no longer be accessible or work correctly after quitting."
     ]
    }
   ],
   "source": [
    "qiime tools view l5-ancom-location.qzv"
   ]
  },
  {
   "cell_type": "code",
   "execution_count": 84,
   "metadata": {},
   "outputs": [
    {
     "name": "stdout",
     "output_type": "stream",
     "text": [
      "\u001b[32mSaved FeatureTable[Frequency] to: ant-table-l4.qza\u001b[0m\n",
      "\u001b[0m\u001b[32mSaved FeatureTable[Composition] to: comp-ant-table-l4.qza\u001b[0m\n",
      "\u001b[0m\u001b[32mSaved Visualization to: l4-ancom-location.qzv\u001b[0m\n",
      "\u001b[0m"
     ]
    }
   ],
   "source": [
    "qiime taxa collapse \\\n",
    "  --i-table ant-table.qza \\\n",
    "  --i-taxonomy training-feature-classifier/taxonomy.qza \\\n",
    "  --p-level 4 \\\n",
    "  --o-collapsed-table ant-table-l4.qza\n",
    "\n",
    "qiime composition add-pseudocount \\\n",
    "  --i-table ant-table-l4.qza \\\n",
    "  --o-composition-table comp-ant-table-l4.qza\n",
    "\n",
    "qiime composition ancom \\\n",
    "  --i-table comp-ant-table-l4.qza \\\n",
    "  --m-metadata-file sample_metadata.tsv \\\n",
    "  --m-metadata-column location \\\n",
    "  --o-visualization l4-ancom-location.qzv"
   ]
  },
  {
   "cell_type": "code",
   "execution_count": 88,
   "metadata": {},
   "outputs": [
    {
     "name": "stdout",
     "output_type": "stream",
     "text": [
      "Press the 'q' key, Control-C, or Control-D to quit. This view may no longer be accessible or work correctly after quitting."
     ]
    }
   ],
   "source": [
    "qiime tools view l4-ancom-location.qzv"
   ]
  },
  {
   "cell_type": "code",
   "execution_count": 82,
   "metadata": {},
   "outputs": [
    {
     "name": "stdout",
     "output_type": "stream",
     "text": [
      "\u001b[32mSaved FeatureTable[Frequency] to: ant-table-l1.qza\u001b[0m\n",
      "\u001b[0m\u001b[32mSaved FeatureTable[Composition] to: comp-ant-table-l1.qza\u001b[0m\n",
      "\u001b[0m\u001b[32mSaved Visualization to: l1-ancom-location.qzv\u001b[0m\n",
      "\u001b[0m"
     ]
    }
   ],
   "source": [
    "qiime taxa collapse \\\n",
    "  --i-table ant-table.qza \\\n",
    "  --i-taxonomy training-feature-classifier/taxonomy.qza \\\n",
    "  --p-level 1 \\\n",
    "  --o-collapsed-table ant-table-l1.qza\n",
    "\n",
    "qiime composition add-pseudocount \\\n",
    "  --i-table ant-table-l1.qza \\\n",
    "  --o-composition-table comp-ant-table-l1.qza\n",
    "\n",
    "qiime composition ancom \\\n",
    "  --i-table comp-ant-table-l1.qza \\\n",
    "  --m-metadata-file sample_metadata.tsv \\\n",
    "  --m-metadata-column location \\\n",
    "  --o-visualization l1-ancom-location.qzv"
   ]
  },
  {
   "cell_type": "code",
   "execution_count": 83,
   "metadata": {},
   "outputs": [
    {
     "name": "stdout",
     "output_type": "stream",
     "text": [
      "Press the 'q' key, Control-C, or Control-D to quit. This view may no longer be accessible or work correctly after quitting."
     ]
    }
   ],
   "source": [
    "qiime tools view l1-ancom-location.qzv"
   ]
  },
  {
   "cell_type": "markdown",
   "metadata": {},
   "source": [
    "Why are there eukaryota and archaea in my 16S sequences?\n",
    "\n",
    "Remember the SILVA SSU contains not only Bacterial, Acrachaeal, and Eukaryal 16S rRNA gene sequences, but also contains the Eukaryal 18S rRNA gene sequences too (which are longer). That is, the 18S rRNA gene is a cystolic homologue of the 16S rRNA gene.\n",
    "\n",
    "https://forum.qiime2.org/t/silva138-16s-database-contains-eukaryota-after-filtering/22929/2 \n",
    "\n",
    "\n",
    "Question\n",
    "\n",
    "Which genera differ in abundance across subject? In which subject is each genus more abundant?"
   ]
  },
  {
   "cell_type": "markdown",
   "metadata": {},
   "source": [
    "Now for nest samples:"
   ]
  },
  {
   "cell_type": "code",
   "execution_count": 106,
   "metadata": {},
   "outputs": [
    {
     "name": "stdout",
     "output_type": "stream",
     "text": [
      "\u001b[32mSaved FeatureTable[Frequency] to: nest-table.qza\u001b[0m\n",
      "\u001b[0m"
     ]
    }
   ],
   "source": [
    "qiime feature-table filter-samples \\\n",
    "  --i-table table.qza \\\n",
    "  --m-metadata-file sample_metadata.tsv \\\n",
    "  --p-where \"[sample-type]='nest'\" \\\n",
    "  --o-filtered-table nest-table.qza"
   ]
  },
  {
   "cell_type": "code",
   "execution_count": 2,
   "metadata": {},
   "outputs": [
    {
     "name": "stdout",
     "output_type": "stream",
     "text": [
      "\u001b[32mSaved FeatureTable[Composition] to: nest-comp-table.qza\u001b[0m\n",
      "\u001b[0m"
     ]
    }
   ],
   "source": [
    "qiime composition add-pseudocount \\\n",
    "  --i-table nest-table.qza \\\n",
    "  --o-composition-table nest-comp-table.qza"
   ]
  },
  {
   "cell_type": "code",
   "execution_count": 2,
   "metadata": {},
   "outputs": [
    {
     "name": "stdout",
     "output_type": "stream",
     "text": [
      "\n",
      "Aborted!\n",
      "\u001b[0m"
     ]
    }
   ],
   "source": [
    "qiime composition ancom \\\n",
    "  --i-table nest-comp-table.qza \\\n",
    "  --m-metadata-file sample_metadata.tsv \\\n",
    "  --m-metadata-column location \\\n",
    "  --o-visualization nest-ancom-location.qzv"
   ]
  },
  {
   "cell_type": "code",
   "execution_count": 2,
   "metadata": {},
   "outputs": [
    {
     "name": "stdout",
     "output_type": "stream",
     "text": [
      "\n",
      "Aborted!\n",
      "\u001b[0m"
     ]
    }
   ],
   "source": [
    "qiime composition ancom --i-table nest-comp-table.qza --m-metadata-file sample_metadata.tsv --m-metadata-column location --o-visualization nest-ancom-location.qzv"
   ]
  },
  {
   "cell_type": "code",
   "execution_count": 1,
   "metadata": {},
   "outputs": [
    {
     "name": "stdout",
     "output_type": "stream",
     "text": [
      "/Users/d1794974/Documents/PhD/Wood_ants/Amplicon_sequencing/qiime2-analysis\n"
     ]
    }
   ],
   "source": [
    "pwd"
   ]
  }
 ],
 "metadata": {
  "kernelspec": {
   "display_name": "Bash",
   "language": "bash",
   "name": "bash"
  },
  "language_info": {
   "codemirror_mode": "shell",
   "file_extension": ".sh",
   "mimetype": "text/x-sh",
   "name": "bash"
  }
 },
 "nbformat": 4,
 "nbformat_minor": 4
}
